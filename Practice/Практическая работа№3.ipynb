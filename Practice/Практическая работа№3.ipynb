{
  "nbformat": 4,
  "nbformat_minor": 0,
  "metadata": {
    "colab": {
      "provenance": [],
      "include_colab_link": true
    },
    "kernelspec": {
      "name": "python3",
      "display_name": "Python 3"
    },
    "language_info": {
      "name": "python"
    }
  },
  "cells": [
    {
      "cell_type": "markdown",
      "metadata": {
        "id": "view-in-github",
        "colab_type": "text"
      },
      "source": [
        "<a href=\"https://colab.research.google.com/github/newts0fa/University/blob/main/Practice/%D0%9F%D1%80%D0%B0%D0%BA%D1%82%D0%B8%D1%87%D0%B5%D1%81%D0%BA%D0%B0%D1%8F%20%D1%80%D0%B0%D0%B1%D0%BE%D1%82%D0%B0%E2%84%963.ipynb\" target=\"_parent\"><img src=\"https://colab.research.google.com/assets/colab-badge.svg\" alt=\"Open In Colab\"/></a>"
      ]
    },
    {
      "cell_type": "markdown",
      "source": [
        "# **Практическая работа №3. Введение в ООП**\n",
        "\n",
        "\n"
      ],
      "metadata": {
        "id": "s-EuQCpnWXCn"
      }
    },
    {
      "cell_type": "markdown",
      "source": [
        "## **Задание №1. Создайте класс Sphere для представления сферы в трехмерном пространстве**\n"
      ],
      "metadata": {
        "id": "TQ5SpdjdbD4D"
      }
    },
    {
      "cell_type": "markdown",
      "source": [
        "Обеспечьте следующие методы класса:\n",
        "\n",
        "1. Конструктор, принимающий 4 действительных числа: радиус, и 3 координаты центра шара. Если конструктор вызывается без аргументов, создать объект сферы с единичным радиусом и центром в начале координат. Если конструктор вызывается с аргументом, создать объект сферы с соответствующим радиусом и центром в начале координат.\n",
        "\n",
        "2. Метод get_volume (), который возвращает действительное число — объем шара, ограниченной текущей сферой.\n",
        "\n",
        "3. Метод get_square (), который возвращает действительное число — площадь внешней поверхности сферы.\n",
        "\n",
        "4. Метод get_radius (), который возвращает действительное число — радиус сферы.\n",
        "\n",
        "5. Метод get_center (), который возвращает тьюпл с 3 действительными числами — координатами центра сферы в том же порядке, в каком они задаются в конструкторе.\n",
        "\n",
        "6. Метод set_radius (r), который принимает 1 аргумент — действительное число, и меняет радиус текущей сферы, ничего не возвращая.\n",
        "\n",
        "7. Метод set_center (x, y, z), который принимает 3 аргумента — действительных числа, и меняет координаты центра сферы, ничего не возвращая. Координаты задаются в том же порядке, что и в конструкторе.\n",
        "\n",
        "8. Метод is_point_inside (x, y, z), который принимает 3 аргумента — действительных числа — координаты некоторой точки в пространстве (в том же порядке, что и в конструкторе), и возвращает логическое значение True или False в зависимости от того, находится эта точка внутри сферы."
      ],
      "metadata": {
        "id": "Q5Ow51wfASZH"
      }
    },
    {
      "cell_type": "code",
      "source": [
        "# Тесты\n",
        "\n",
        "s0 = Sphere(0.5) # test sphere creation with radius and default center\n",
        "print(s0.get_center()) # (0.0, 0.0, 0.0)\n",
        "print(s0.get_volume()) # 0.523598775598\n",
        "print(s0.is_point_inside(0 , -1.5, 0)) # False\n",
        "s0.set_radius(1.6)\n",
        "print(s0.is_point_inside(0, -1.5, 0)) # True\n",
        "print(s0.get_radius()) # 1.6"
      ],
      "metadata": {
        "id": "xYx3bR2Lbv42"
      },
      "execution_count": null,
      "outputs": []
    },
    {
      "cell_type": "code",
      "source": [
        "import math\n",
        "\n",
        "class cfera:\n",
        "    def __init__(self, radius=1.0, x=0.0, y=0.0, z=0.0):\n",
        "        self.radius = radius\n",
        "        self.center = (x, y, z)\n",
        "\n",
        "    def get_volume(self): # объём сферы\n",
        "        return (4/3) * math.pi * self.radius ** 3\n",
        "\n",
        "    def get_square(self):\n",
        "        return 4 * math.pi * self.radius ** 2\n",
        "\n",
        "    def get_radius(self): # радиус сферы\n",
        "        return self.radius\n",
        "\n",
        "    def get_center(self): #корды сферы\n",
        "        return self.center\n",
        "\n",
        "    def set_radius(self, r): #менят радиус сферы\n",
        "        self.radius = r\n",
        "\n",
        "    def set_center(self, x, y, z): #меняет корды\n",
        "        self.center = (x, y, z)\n",
        "\n",
        "    def is_point_inside(self, x, y, z):\n",
        "        cx, cy, cz = self.center\n",
        "        distance_squared = (x - cx) **2 + (y - cy) **2 + (z - cz) ** 2\n",
        "        return distance_squared <= self.radius ** 2\n",
        "\n",
        "s0 =  cfera(0.5)\n",
        "print(s0.get_center())\n",
        "print(s0.get_volume())\n",
        "print(s0.is_point_inside(0 , -1.5, 0))\n",
        "\n",
        "s0.set_radius(1.6)\n",
        "print(s0.is_point_inside(0, -1.5, 0))\n",
        "print(s0.get_radius())"
      ],
      "metadata": {
        "id": "d-vd-AYRdBId",
        "colab": {
          "base_uri": "https://localhost:8080/"
        },
        "outputId": "9d0594c3-7871-46fb-f7a4-f05c116785a0"
      },
      "execution_count": null,
      "outputs": [
        {
          "output_type": "stream",
          "name": "stdout",
          "text": [
            "(0.0, 0.0, 0.0)\n",
            "0.5235987755982988\n",
            "False\n",
            "True\n",
            "1.6\n"
          ]
        }
      ]
    },
    {
      "cell_type": "markdown",
      "source": [
        "## **Задание №2. Создайте класс SuperStr, который наследует стандартный класс str и содержит 2 новых метода:**"
      ],
      "metadata": {
        "id": "UuJ9K_zAcaY_"
      }
    },
    {
      "cell_type": "markdown",
      "source": [
        "1. Метод is_repeatance (s), который принимает 1 аргумент s и возвращает True или False в зависимости от того, может ли текущая строку быть получена целым количеством повторов строки s. Вернуть False, если s не является строкой. Считать, что пустая строка не содержит повторов.\n",
        "\n",
        "2. Метод is_palindrom (), который возвращает True или False в зависимости от того, является ли строка [палиндромом](https://ru.wikipedia.org/wiki/Палиндром). Регистрами символов пренебрегать. Пустую строку считать палиндромом."
      ],
      "metadata": {
        "id": "GX99X81VchPW"
      }
    },
    {
      "cell_type": "code",
      "source": [
        "class SuperStr(str):\n",
        "    def is_repeatance(self, s):\n",
        "        if not isinstance(s, str) or s == \"\":\n",
        "            return False\n",
        "        return len(self) % len(s) == 0 and self == s * (len(self) // len(s))\n",
        "\n",
        "    def is_palindrom(self):\n",
        "        cleaned_str = self.lower()\n",
        "        return cleaned_str == cleaned_str[::-1]\n",
        "\n",
        "s = SuperStr(\"123123123123\")\n",
        "print(s.is_repeatance(\"123\"))\n",
        "print(s.is_repeatance(\"123123\"))\n",
        "print(s.is_repeatance(\"123123123123\"))\n",
        "print(s.is_repeatance(\"12312\"))\n",
        "print(s.is_repeatance(123))\n",
        "print(s.is_palindrom())\n",
        "print(s)\n",
        "print(int(s))\n",
        "print(s + \"qwe\")\n",
        "\n",
        "p = SuperStr(\"123_321\")\n",
        "print(p.is_palindrom())"
      ],
      "metadata": {
        "id": "LtIAKDWFdEcr",
        "colab": {
          "base_uri": "https://localhost:8080/"
        },
        "outputId": "a12447e3-84dc-4e56-be85-0830708645e1"
      },
      "execution_count": null,
      "outputs": [
        {
          "output_type": "stream",
          "name": "stdout",
          "text": [
            "True\n",
            "True\n",
            "True\n",
            "False\n",
            "False\n",
            "False\n",
            "123123123123\n",
            "123123123123\n",
            "123123123123qwe\n",
            "True\n"
          ]
        }
      ]
    },
    {
      "cell_type": "code",
      "source": [
        "# Тесты\n",
        "\n",
        "s = SuperStr(\"123123123123\")\n",
        "print(s.is_repeatance(\"123\")) # True\n",
        "print(s.is_repeatance(\"123123\")) # True\n",
        "print(s.is_repeatance(\"123123123123\")) # True\n",
        "print(s.is_repeatance(\"12312\")) # False\n",
        "print(s.is_repeatance(123)) # False\n",
        "print(s.is_palindrom()) # False\n",
        "print(s) # 123123123123 (строка)\n",
        "print(int(s)) # 123123123123 (целое число)\n",
        "print(s + \"qwe\") # 123123123123qwe\n",
        "p = SuperStr(\"123_321\")\n",
        "print(p.is_palindrom()) # True"
      ],
      "metadata": {
        "id": "oRO3alwicoNp"
      },
      "execution_count": null,
      "outputs": []
    },
    {
      "cell_type": "markdown",
      "source": [
        "## **Задание №3. В коде ниже представлен класс преподавателей и класс студентов (вы можете взять этот код за основу или написать свой).**"
      ],
      "metadata": {
        "id": "m9EGwLY9jZbw"
      }
    },
    {
      "cell_type": "code",
      "source": [
        "class Student:\n",
        "    def __init__(self, name, surname, gender):\n",
        "        self.name = name\n",
        "        self.surname = surname\n",
        "        self.gender = gender\n",
        "        self.finished_courses = []\n",
        "        self.courses_in_progress = []\n",
        "        self.grades = {}\n",
        "\n",
        "    def add_courses(self, course_name):\n",
        "        self.finished_courses.append(course_name)\n",
        "\n",
        "\n",
        "class Mentor:\n",
        "    def __init__(self, name, surname):\n",
        "        self.name = name\n",
        "        self.surname = surname\n",
        "        self.courses_attached = []\n",
        "\n",
        "    def rate_hw(self, student, course, grade):\n",
        "        student.grades[course] = [grade]"
      ],
      "metadata": {
        "id": "PlqK9m7KrT6e"
      },
      "execution_count": null,
      "outputs": []
    },
    {
      "cell_type": "code",
      "source": [
        "student = Student('Less', 'Cenat', 'male')\n",
        "mentor = Mentor('Body', 'Buddy')\n",
        "mentor.rate_hw(student, 'Python', 5)\n",
        "\n",
        "print(\"Имя студента: \", student.name)\n",
        "print(\"Имя преподавателя: \", mentor.name)\n",
        "print(\"Оценки студента по курсам: \", student.grades)"
      ],
      "metadata": {
        "colab": {
          "base_uri": "https://localhost:8080/"
        },
        "id": "oNc1-dVaw3ee",
        "outputId": "6d375a3f-2ee0-43e0-bbb2-6506125a698c"
      },
      "execution_count": null,
      "outputs": [
        {
          "output_type": "stream",
          "name": "stdout",
          "text": [
            "Имя студента:  Less\n",
            "Имя преподавателя:  Body\n",
            "Оценки студента по курсам:  {'Python': [5]}\n"
          ]
        }
      ]
    },
    {
      "cell_type": "markdown",
      "source": [
        "### **3.1. Наследование**"
      ],
      "metadata": {
        "id": "08FkYxULrxE-"
      }
    },
    {
      "cell_type": "markdown",
      "source": [
        "* Класс Mentor должен стать родительским классом для преподавателей. От него нужно реализовать наследование классов Lecturer (лекторы) и Reviewer (эксперты, проверяющие домашние задания).\n",
        "\n",
        "> Имя, фамилю и список закрепленных курсов логично реализовать на уровне родительского класса."
      ],
      "metadata": {
        "id": "YNjsCv5ItOii"
      }
    },
    {
      "cell_type": "code",
      "source": [
        "class Student:\n",
        "  def __init__(self, name, surname, gender):\n",
        "    self.name = name\n",
        "    self.surname = surname\n",
        "    self.gender = gender\n",
        "    self.finished_courses = []\n",
        "    self.courses_in_progress = []\n",
        "    self.grades = {}\n",
        "\n",
        "  def add_courses(self, course_name):\n",
        "    self.finished_courses.append(course_name)\n",
        "\n",
        "class Mentor:\n",
        "  def __init__(self, name, surname):\n",
        "    self.name = name\n",
        "    self.surname = surname\n",
        "    self.courses_attached = []\n",
        "\n",
        "  def rate_hw(self, student, course, grade):\n",
        "    student.grades[course] = [grade]\n",
        "\n",
        "class Lecturer(Mentor):\n",
        "  def __init__(self, name, surname):\n",
        "    self.name = name\n",
        "    self.surname = surname\n",
        "    self.assigned_courses = []\n",
        "\n",
        "  def assigned_courses(self, course_name):\n",
        "    self.assigned_courses.append(course_name)\n",
        "\n",
        "class Reviewer(Mentor):\n",
        "  def __init__(self, name, surname):\n",
        "    self.name = name\n",
        "    self.surname = surname\n",
        "    self.assigned_homework = []\n",
        "\n",
        "  def assigned_homework(self, homework):\n",
        "    self.assigned_homework.append(homework)\n",
        "\n",
        "student = Student('Ray', 'Cenat', 'male')\n",
        "mentor = Mentor('Some', 'Buddy')\n",
        "mentor.rate_hw(student, 'Python', 10)\n",
        "\n",
        "print('Имя студента: ', student.name)\n",
        "print('Имя преподавателя: ', mentor.name)\n",
        "print('Оценки студента по курсам: ', student.grades)"
      ],
      "metadata": {
        "id": "1quZPRZKtIoc",
        "colab": {
          "base_uri": "https://localhost:8080/"
        },
        "outputId": "2603e73b-5528-4079-b1c9-92a7829d884f"
      },
      "execution_count": null,
      "outputs": [
        {
          "output_type": "stream",
          "name": "stdout",
          "text": [
            "Lector: Ruoy Eman, Specialization: Pythons\n",
            "Ruoy is giving a lecture on Python.\n",
            "Reviewer: Some Body, Expertise: Algorithms\n",
            "Some is reviewing homework for Math.\n",
            "Python, Specialist, Computer Science\n"
          ]
        }
      ]
    },
    {
      "cell_type": "markdown",
      "source": [
        "### **3.2. Атрибуты и взаимодействие классов**"
      ],
      "metadata": {
        "id": "oL8kB-uUtH5K"
      }
    },
    {
      "cell_type": "markdown",
      "source": [
        "* Реализуйте возможность проставления оценок студентам только Reviewer-ам (реализуйте такой метод).\n",
        "\n",
        "* Реализуйте метод выставления оценок лекторам у класса Student (оценки по 10-балльной шкале, хранятся в атрибуте-словаре у Lecturer, в котором ключи – названия курсов, а значения – списки оценок). Лектор при этом должен быть закреплен за тем курсом, на который записан студент (реализовать проверку)."
      ],
      "metadata": {
        "id": "ddcuJFCksWsY"
      }
    },
    {
      "cell_type": "code",
      "source": [
        "class Student:\n",
        "    def __init__(self, name, surname, gender):\n",
        "        self.name = name\n",
        "        self.surname = surname\n",
        "        self.gender = gender\n",
        "        self.finished_courses = []\n",
        "        self.courses_in_progress = []\n",
        "        self.grades = {}\n",
        "\n",
        "    def add_courses(self, course_name):\n",
        "        self.finished_courses.append(course_name)\n",
        "\n",
        "    def rate_lecturer(self, lecturer, course, grade):\n",
        "        if isinstance(lecturer, Lecturer) and course in self.courses_in_progress:\n",
        "            if course not in lecturer.grades:\n",
        "                lecturer.grades[course] = []\n",
        "            lecturer.grades[course].append(grade)\n",
        "        else:\n",
        "            print(f'Вы не можете оценить лектора: {lecturer.name} {lecturer.surname} нА курсе {course}.')\n",
        "\n",
        "class Mentor:\n",
        "    def __init__(self, name, surname):\n",
        "        self.name = name\n",
        "        self.surname = surname\n",
        "        self.courses_attached = []\n",
        "\n",
        "class Lecturer(Mentor):\n",
        "    def __init__(self, name, surname):\n",
        "        super().__init__(name, surname)\n",
        "        self.grades = {}\n",
        "\n",
        "    def assign_course(self, course_name):\n",
        "        self.courses_attached.append(course_name)\n",
        "\n",
        "class Reviewer(Mentor):\n",
        "    def __init__(self, name, surname):\n",
        "        super().__init__(name, surname)\n",
        "        self.assigned_homework = []\n",
        "\n",
        "    def rate_hw(self, student, course, grade):\n",
        "        if course in student.courses_in_progress:\n",
        "            if course not in student.grades:\n",
        "                student.grades[course] = []\n",
        "            student.grades[course].append(grade)\n",
        "        else:\n",
        "            print(f'Невозможно оценить задание у студента {student.name} {student.surname} на курсе {course}.')\n",
        "\n",
        "student = Student('Стат', 'Турбо', 'мужской')\n",
        "lecturer = Lecturer('Ганна', 'Вайэсэл')\n",
        "reviewer = Reviewer('Анна', 'Гриб')\n",
        "student.courses_in_progress.append('Python')\n",
        "student.courses_in_progress.append('Math')\n",
        "lecturer.assign_course('Python')\n",
        "reviewer.rate_hw(student, 'Python', 8)\n",
        "student.rate_lecturer(lecturer, 'Python', 9)\n",
        "print(student.grades)\n",
        "print(lecturer.grades)"
      ],
      "metadata": {
        "id": "U30yyvuirv6H",
        "colab": {
          "base_uri": "https://localhost:8080/"
        },
        "outputId": "5f8e4b21-57e2-4301-eefe-75894f03410d"
      },
      "execution_count": null,
      "outputs": [
        {
          "output_type": "stream",
          "name": "stdout",
          "text": [
            "Elijah Voronov получил(а) оценку 9 по курсу Math.\n",
            "Some поставил оценку 9 по курсу Math студенту Elijah Voronov.\n",
            "Elijah не записан(а) на курс Python, или неверная оценка.\n",
            "None\n",
            "{'Math': [9]}\n"
          ]
        }
      ]
    },
    {
      "cell_type": "markdown",
      "source": [
        "### **3.3. Полиморфизм и магические методы**"
      ],
      "metadata": {
        "id": "i6PrwEBSu39u"
      }
    },
    {
      "cell_type": "markdown",
      "source": [
        "Перегрузите магический метод \\_\\_str__ у всех классов.\n",
        "У проверяющих он должен выводить информацию в следующем виде:\n",
        "\n",
        "\n",
        "\n",
        "```\n",
        "print(some_reviewer)\n",
        "Имя: Some\n",
        "Фамилия: Buddy\n",
        "```\n",
        "\n",
        "У лекторов:\n",
        "\n",
        "\n",
        "\n",
        "```\n",
        "print(some_lecturer)\n",
        "Имя: Some\n",
        "Фамилия: Buddy\n",
        "Средняя оценка за лекции: 9.9\n",
        "```\n",
        "\n",
        "А у студентов так:\n",
        "\n",
        "\n",
        "\n",
        "```\n",
        "print(some_student)\n",
        "Имя: Ruoy\n",
        "Фамилия: Eman\n",
        "Средняя оценка за домашние задания: 9.9\n",
        "Курсы в процессе изучения: Python, Git\n",
        "Завершенные курсы: Введение в программирование\n",
        "```\n",
        "\n",
        "\n",
        "\n"
      ],
      "metadata": {
        "id": "GvmtjlnmvF8b"
      }
    },
    {
      "cell_type": "code",
      "source": [
        "class Student:\n",
        "    def __init__(self, name, surname, gender):\n",
        "        self.name = name\n",
        "        self.surname = surname\n",
        "        self.gender = gender\n",
        "        self.finished_courses = []\n",
        "        self.courses_in_progress = []\n",
        "        self.grades = {}\n",
        "\n",
        "    def add_courses(self, course_name):\n",
        "        self.finished_courses.append(course_name)\n",
        "\n",
        "    def rate_lecturer(self, lecturer, course, grade):\n",
        "        if isinstance(lecturer, Lecturer) and course in self.courses_in_progress:\n",
        "            if course not in lecturer.grades:\n",
        "                lecturer.grades[course] = []\n",
        "            lecturer.grades[course].append(grade)\n",
        "        else:\n",
        "            print(f'Вы не можете оценить лектора: {lecturer.name} {lecturer.surname} на курсе {course}.')\n",
        "\n",
        "    def __str__(self):\n",
        "        avg_grade = self.get_avg_grade()\n",
        "        courses_in_progress = ', '.join(self.courses_in_progress) if self.courses_in_progress else 'Курсов нет'\n",
        "        finished_courses = ', '.join(self.finished_courses) if self.finished_courses else 'Курсов нет'\n",
        "        return (f'Имя: {self.name}\\n'\n",
        "                f'Фамилия: {self.surname}\\n'\n",
        "                f'Средняя оценка за дз: {avg_grade}\\n'\n",
        "                f'Курсы в процессЕ: {courses_in_progress}\\n'\n",
        "                f'Завершено: {finished_courses}')\n",
        "\n",
        "    def get_avg_grade(self):\n",
        "        if not self.grades:\n",
        "            return 0\n",
        "        total = sum(sum(grades) for grades in self.grades.values())\n",
        "        count = sum(len(grades) for grades in self.grades.values())\n",
        "        return round(total / count, 1) if count > 0 else 0\n",
        "\n",
        "\n",
        "class Mentor:\n",
        "    def __init__(self, name, surname):\n",
        "        self.name = name\n",
        "        self.surname = surname\n",
        "        self.courses_attached = []\n",
        "\n",
        "\n",
        "class Lecturer(Mentor):\n",
        "    def __init__(self, name, surname):\n",
        "        super().__init__(name, surname)\n",
        "        self.grades = {}\n",
        "\n",
        "    def assign_course(self, course_name):\n",
        "        self.courses_attached.append(course_name)\n",
        "\n",
        "    def __str__(self):\n",
        "        avg_grade = self.get_avg_grade()\n",
        "        return (f'Имя: {self.name}\\n'\n",
        "                f'Фамилия: {self.surname}\\n'\n",
        "                f'Средняя оценка за лекции: {avg_grade}')\n",
        "\n",
        "    def get_avg_grade(self):\n",
        "        if not self.grades:\n",
        "            return 0\n",
        "        total = sum(sum(grades) for grades in self.grades.values())\n",
        "        count = sum(len(grades) for grades in self.grades.values())\n",
        "        return round(total / count, 1) if count > 0 else 0\n",
        "\n",
        "\n",
        "class Reviewer(Mentor):\n",
        "    def __init__(self, name, surname):\n",
        "        super().__init__(name, surname)\n",
        "        self.assigned_homework = []\n",
        "\n",
        "    def rate_hw(self, student, course, grade):\n",
        "        if course in student.courses_in_progress:\n",
        "            if course not in student.grades:\n",
        "                student.grades[course] = []\n",
        "            student.grades[course].append(grade)\n",
        "        else:\n",
        "            print(f'Невозможно оценить задание у студента {student.name} {student.surname} на курсе {course}.')\n",
        "\n",
        "    def __str__(self):\n",
        "        return f'Имя: {self.name}\\nФамилия: {self.surname}'\n",
        "\n",
        "Oleg = Student('Олег', 'Гослинг', 'мужчина')\n",
        "Oleg.courses_in_progress.append('Python')\n",
        "Oleg.courses_in_progress.append('Git')\n",
        "print(Oleg)\n",
        "Jeff = Lecturer('Джефф', 'Бэквудс')\n",
        "Jeff.grades = {'Python': [9, 10], 'Git': [10, 10]}\n",
        "print(Jeff)\n",
        "Once_told_me = Reviewer('Some', 'Buddy')\n",
        "print(Once_told_me)"
      ],
      "metadata": {
        "id": "gCJAL_EmwU0b",
        "colab": {
          "base_uri": "https://localhost:8080/"
        },
        "outputId": "7f3fb604-6c2f-4758-e9b1-1f39ffb4496a"
      },
      "execution_count": null,
      "outputs": [
        {
          "output_type": "stream",
          "name": "stdout",
          "text": [
            "False\n",
            "0\n"
          ]
        }
      ]
    },
    {
      "cell_type": "markdown",
      "source": [
        "**Реализуйте перегрузку других магических методов на Ваш выбор (не менее трёх), руководствуясь по смыслу контекстом представленных классов (студенты, преподаватели, оценки и т.д.)**"
      ],
      "metadata": {
        "id": "1DNE4TE3vfYI"
      }
    },
    {
      "cell_type": "code",
      "source": [
        "class Student:\n",
        "    def __init__(self, name, surname, gender):\n",
        "        self.name = name\n",
        "        self.surname = surname\n",
        "        self.gender = gender\n",
        "        self.finished_courses = []\n",
        "        self.courses_in_progress = []\n",
        "        self.grades = {}\n",
        "\n",
        "    def __eq__(self, other):\n",
        "        return self.get_avg_grade() == other.get_avg_grade()\n",
        "\n",
        "    def __lt__(self, other):\n",
        "        return self.get_avg_grade() < other.get_avg_grade()\n",
        "\n",
        "    def __len__(self):\n",
        "        return len(self.finished_courses)\n",
        "    def add_courses(self, course_name):\n",
        "        self.finished_courses.append(course_name)\n",
        "\n",
        "    def rate_lecturer(self, lecturer, course, grade):\n",
        "        if isinstance(lecturer, Lecturer) and course in self.courses_in_progress:\n",
        "            if course not in lecturer.grades:\n",
        "                lecturer.grades[course] = []\n",
        "            lecturer.grades[course].append(grade)\n",
        "        else:\n",
        "            print(f'Вы не можете оценить лектора: {lecturer.name} {lecturer.surname} на курсе {course}.')\n",
        "\n",
        "    def __str__(self):\n",
        "        avg_grade = self.get_avg_grade()\n",
        "        courses_in_progress = ', '.join(self.courses_in_progress) if self.courses_in_progress else 'Курсов нет'\n",
        "        finished_courses = ', '.join(self.finished_courses) if self.finished_courses else 'Курсов нет'\n",
        "        return (f'Имя: {self.name}\\n'\n",
        "                f'Фамилия: {self.surname}\\n'\n",
        "                f'Средняя оценка за дз: {avg_grade}\\n'\n",
        "                f'Курсы в процессЕ: {courses_in_progress}\\n'\n",
        "                f'Завершено: {finished_courses}')\n",
        "\n",
        "    def get_avg_grade(self):\n",
        "        if not self.grades:\n",
        "            return 0\n",
        "        total = sum(sum(grades) for grades in self.grades.values())\n",
        "        count = sum(len(grades) for grades in self.grades.values())\n",
        "        return round(total / count, 1) if count > 0 else 0\n",
        "\n",
        "class Mentor:\n",
        "    def __init__(self, name, surname):\n",
        "        self.name = name\n",
        "        self.surname = surname\n",
        "        self.courses_attached = []\n",
        "\n",
        "class Lecturer(Mentor):\n",
        "    def __init__(self, name, surname):\n",
        "        super().__init__(name, surname)\n",
        "        self.grades = {}\n",
        "\n",
        "    def __eq__(self, other):\n",
        "        return self.get_avg_grade() == other.get_avg_grade()\n",
        "\n",
        "    def __lt__(self, other):\n",
        "        return self.get_avg_grade() < other.get_avg_grade()\n",
        "\n",
        "    def __str__(self):\n",
        "        avg_grade = self.get_avg_grade()\n",
        "        return f'Имя: {self.name}\\nФамилия: {self.surname}\\nСредняя оценка за лекции: {avg_grade}'\n",
        "\n",
        "    def assign_course(self, course_name):\n",
        "        self.courses_attached.append(course_name)\n",
        "\n",
        "    def get_avg_grade(self):\n",
        "        if not self.grades:\n",
        "            return 0\n",
        "        total = sum(sum(grades) for grades in self.grades.values())\n",
        "        count = sum(len(grades) for grades in self.grades.values())\n",
        "        return round(total / count, 1) if count > 0 else 0\n",
        "\n",
        "class Reviewer(Mentor):\n",
        "    def __init__(self, name, surname):\n",
        "        super().__init__(name, surname)\n",
        "        self.assigned_homework = []\n",
        "\n",
        "    def rate_hw(self, student, course, grade):\n",
        "        if course in student.courses_in_progress:\n",
        "            if course not in student.grades:\n",
        "                student.grades[course] = []\n",
        "            student.grades[course].append(grade)\n",
        "        else:\n",
        "            print(f'Невозможно оценить задание у студента {student.name} {student.surname} на курсе {course}.')\n",
        "\n",
        "    def __str__(self):\n",
        "        return f'Имя: {self.name}\\nФамилия: {self.surname}'\n",
        "\n",
        "Dima = Student('Дима', 'Быков', 'male')\n",
        "Oleg = Student('Oleg', 'Gosling', 'male')\n",
        "print(Dima < Oleg)\n",
        "print(len(Dima))"
      ],
      "metadata": {
        "id": "WNCf9PPMu4Gv"
      },
      "execution_count": null,
      "outputs": []
    },
    {
      "cell_type": "markdown",
      "source": [
        "### **3.4. Тестирование**\n",
        "\n",
        "Создайте по 2 экземпляра каждого класса, вызовите все созданные методы, а также реализуйте две функции:\n",
        "\n",
        "* для подсчета средней оценки за домашние задания по всем студентам в рамках конкретного курса (в качестве аргументов принимаем список студентов и название курса);\n",
        "* для подсчета средней оценки за лекции всех лекторов в рамках курса (в качестве аргумента принимаем список лекторов и название курса)."
      ],
      "metadata": {
        "id": "X8xvLNT6u4Nn"
      }
    },
    {
      "cell_type": "code",
      "source": [
        "class Student:\n",
        "    def __init__(self, name, surname, gender):\n",
        "        self.name = name\n",
        "        self.surname = surname\n",
        "        self.gender = gender\n",
        "        self.finished_courses = []\n",
        "        self.courses_in_progress = []\n",
        "        self.grades = {}\n",
        "    def add_courses(self, course_name):\n",
        "        self.finished_courses.append(course_name)\n",
        "\n",
        "    def rate_lecturer(self, lecturer, course, grade):\n",
        "        if isinstance(lecturer, Lecturer) and course in self.courses_in_progress:\n",
        "            if course not in lecturer.grades:\n",
        "                lecturer.grades[course] = []\n",
        "            lecturer.grades[course].append(grade)\n",
        "\n",
        "    def get_avg_grade(self):\n",
        "        if not self.grades:\n",
        "            return 0\n",
        "        total = sum(sum(grades) for grades in self.grades.values())\n",
        "        count = sum(len(grades) for grades in self.grades.values())\n",
        "        return round(total / count, 1) if count > 0 else 0\n",
        "\n",
        "class Mentor:\n",
        "    def __init__(self, name, surname):\n",
        "        self.name = name\n",
        "        self.surname = surname\n",
        "        self.courses_attached = []\n",
        "\n",
        "class Lecturer(Mentor):\n",
        "    def __init__(self, name, surname):\n",
        "        super().__init__(name, surname)\n",
        "        self.grades = {}\n",
        "\n",
        "    def get_avg_grade(self):\n",
        "        if not self.grades:\n",
        "            return 0\n",
        "        total = sum(sum(grades) for grades in self.grades.values())\n",
        "        count = sum(len(grades) for grades in self.grades.values())\n",
        "        return round(total / count, 1) if count > 0 else 0\n",
        "class Reviewer(Mentor):\n",
        "    def rate_hw(self, student, course, grade):\n",
        "        if course in student.courses_in_progress:\n",
        "            if course not in student.grades:\n",
        "                student.grades[course] = []\n",
        "            student.grades[course].append(grade)\n",
        "\n",
        "def average_hw_grade(students, course_name):\n",
        "    total = sum(student.get_avg_grade() for student in students if course_name in student.grades)\n",
        "    count = sum(1 for student in students if course_name in student.grades)\n",
        "    return round(total / count, 1) if count > 0 else 0\n",
        "\n",
        "def average_lecturer_grade(lecturers, course_name):\n",
        "    total = sum(lecturer.get_avg_grade() for lecturer in lecturers if course_name in lecturer.grades)\n",
        "    count = sum(1 for lecturer in lecturers if course_name in lecturer.grades)\n",
        "    return round(total / count, 1) if count > 0 else 0\n",
        "\n",
        "Dima = Student('Дима', 'Быков', 'male')\n",
        "Oleg = Student('Oleg', 'Gosling', 'male')\n",
        "Denis = Lecturer('Denis', 'Denisov')\n",
        "Ray = Lecturer('Ray', 'Cenat')\n",
        "Rex = Reviewer('Rex', 'Centr')\n",
        "Dima.courses_in_progress.append('Python')\n",
        "Oleg.courses_in_progress.append('Python')\n",
        "Rex.rate_hw(Dima, 'Python', 9)\n",
        "Rex.rate_hw(Oleg, 'Python', 10)\n",
        "print(average_hw_grade([Dima, Oleg], 'Python'))"
      ],
      "metadata": {
        "id": "uh8n08fdu4V_"
      },
      "execution_count": null,
      "outputs": []
    },
    {
      "cell_type": "markdown",
      "source": [
        "## **Задание №4. Перегрузка операторов с помощью магических методов**\n"
      ],
      "metadata": {
        "id": "ehfo80anwJUM"
      }
    },
    {
      "cell_type": "markdown",
      "source": [
        "### **Цель задания:**\n",
        "\n"
      ],
      "metadata": {
        "id": "i_KsKg4awZOJ"
      }
    },
    {
      "cell_type": "markdown",
      "source": [
        "Разработать класс `Fraction` для работы с рациональными числами (дробями), реализовав перегрузку стандартных операторов через переопределение соответствующих магических методов. Ваша задача — обеспечить класс `Fraction` функциональностью, демонстрируемой в приведенном примере кода."
      ],
      "metadata": {
        "id": "JvIIB641watq"
      }
    },
    {
      "cell_type": "markdown",
      "source": [
        "### **Описание задания:**\n",
        "\n"
      ],
      "metadata": {
        "id": "BZ9kMLrYwcW_"
      }
    },
    {
      "cell_type": "markdown",
      "source": [
        "Создайте класс `Fraction`, который представляет собой обыкновенную дробь с числителем и знаменателем. Перегрузите основные арифметические операторы для выполнения операций над дробями, а также операторы сравнения. Обеспечьте возможность преобразования дроби в число с плавающей точкой и обратную операцию. Реализуйте обработку исключений при некорректных данных. Предоставьте понятное строковое и официальное представление дроби."
      ],
      "metadata": {
        "id": "6Qt56A-Bwe87"
      }
    },
    {
      "cell_type": "markdown",
      "source": [
        "**Требования к заданию:**\n"
      ],
      "metadata": {
        "id": "1lv3NnB_whqP"
      }
    },
    {
      "cell_type": "markdown",
      "source": [
        "\n",
        "1. **Класс `Fraction` должен:**\n",
        "\n",
        "   - Инициализироваться двумя целыми числами: числителем и знаменателем.\n",
        "   - Обрабатывать ситуацию когда знаменатель равен нулю, а именно выводить сообщение `\"Знаменатель не может быть нулем\"`.\n",
        "   - Упрощать дроби до несократимых при создании и после каждой арифметической операции.\n",
        "\n",
        "2. **Перегрузить следующие операторы путем переопределения магических методов:**\n",
        "\n",
        "   - **Сложение `+`** (`__add__`): сложение двух дробей, возвращает новую дробь.\n",
        "   - **Вычитание `-`** (`__sub__`): вычитание одной дроби из другой, возвращает новую дробь.\n",
        "   - **Умножение `*`** (`__mul__`): умножение двух дробей, возвращает новую дробь.\n",
        "   - **Деление `/`** (`__truediv__`): деление одной дроби на другую, возвращает новую дробь.\n",
        "   - **Равенство `==`** (`__eq__`): проверка равенства двух дробей.\n",
        "   - **Сравнения `>`, `<`, `>=`, `<=`**: сравнение дробей по их значению, реализовать методы `__lt__`, `__le__`, `__gt__`, `__ge__`.\n",
        "\n",
        "3. **Реализовать преобразование типов:**\n",
        "\n",
        "   - **Метод `__float__`**: преобразование дроби в число с плавающей точкой.\n",
        "\n",
        "4. **Дополнительные методы класса:**\n",
        "\n",
        "   - **`reciprocal()`**: возвращает новую дробь, обратную данной (числитель и знаменатель меняются местами).\n",
        "   - **Строковое представление** (`__str__`): возвращает строку вида `\"числитель/знаменатель\"`. Если знаменатель равен 1, возвращает только числитель в виде строки.\n",
        "   - **Официальное представление** (`__repr__`): возвращает строку вида `\"Fraction(числитель, знаменатель)\"`.\n",
        "\n",
        "5. **Обработка исключений:**\n",
        "\n",
        "   - При попытке создать дробь с нулевым знаменателем выводить в консоль сообщение `ValueError`.\n",
        "   - При попытке деления на нулевую дробь, выводить в консоль сообщение `ZeroDivisionError`.\n",
        "\n",
        "6. **Тестирование:**\n",
        "\n",
        "   - Написать код, демонстрирующий работу всех реализованных методов и операторов, используя примеры, приведенные ниже.\n",
        "   - Обеспечить корректную обработку исключений и вывод соответствующих сообщений.\n",
        "\n",
        "\n",
        "\n"
      ],
      "metadata": {
        "id": "4tJX8suPv0TY"
      }
    },
    {
      "cell_type": "code",
      "source": [
        "#"
      ],
      "metadata": {
        "id": "58JlCtFkxpmU"
      },
      "execution_count": null,
      "outputs": []
    },
    {
      "cell_type": "code",
      "source": [
        "def cut_to_lower_num(frac):\n",
        "  den = frac.get_denom()\n",
        "  nume = frac.get_num()\n",
        "  div_by_2 = den % 2 == 0 and nume % 2 == 0\n",
        "  div_by_3 = den % 3 == 0 and nume % 3 == 0\n",
        "  div_by_5 = den % 5 == 0 and nume % 5 == 0\n",
        "  while div_by_2 or div_by_3 or div_by_5:\n",
        "    div_by_2 = den % 2 == 0 and nume % 2 == 0\n",
        "    div_by_3 = den % 3 == 0 and nume % 3 == 0\n",
        "    div_by_5 = den % 5 == 0 and nume % 5 == 0\n",
        "    if div_by_2:\n",
        "      nume //= 2\n",
        "      den //= 2\n",
        "    elif div_by_3:\n",
        "      nume //= 3\n",
        "      den //= 3\n",
        "    elif div_by_5:\n",
        "      nume //= 5\n",
        "      den //= 5\n",
        "  return Fraction(nume, den)\n",
        "\n",
        "\n",
        "class Fraction:\n",
        "  def __init__(self, numerator, denominator):\n",
        "    self.numerator = numerator\n",
        "    self.denominator = denominator\n",
        "    if self.denominator == 0:\n",
        "      raise ValueError('Знаменатель не может быть равен нулю')\n",
        "\n",
        "  def __add__(self, other):\n",
        "    return cut_to_lower_num(Fraction(self.numerator * other.denominator + other.numerator * self.denominator, self.denominator * other.denominator))\n",
        "\n",
        "  def __sub__(self, other):\n",
        "    return cut_to_lower_num(Fraction(self.numerator * other.denominator - other.numerator * self.denominator, self.denominator * other.denominator))\n",
        "\n",
        "  def __mul__(self, other):\n",
        "    return cut_to_lower_num(Fraction(self.numerator * other.numerator, self.denominator * other.denominator))\n",
        "\n",
        "  def __truediv__(self, other):\n",
        "    if other.denominator == 0:\n",
        "      raise ZeroDivisionError('Попытка деления на нулевую дробь')\n",
        "    return cut_to_lower_num(Fraction(self.numerator * other.denominator, self.denominator * other.numerator))\n",
        "\n",
        "  def __eq__(self, other):\n",
        "    return (self.numerator * other.denominator / self.denominator * other.denominator) == (other.numerator * self.denominator / self.denominator * other.denominator)\n",
        "\n",
        "  def __lt__(self, other):\n",
        "    return (self.numerator * other.denominator / self.denominator * other.denominator) < (other.numerator * self.denominator / self.denominator * other.denominator)\n",
        "\n",
        "  def __le__(self, other):\n",
        "    return (self.numerator * other.denominator / self.denominator * other.denominator) <= (other.numerator * self.denominator / self.denominator * other.denominator)\n",
        "\n",
        "  def __gt__(self, other):\n",
        "    return (self.numerator * other.denominator / self.denominator * other.denominator) > (other.numerator * self.denominator / self.denominator * other.denominator)\n",
        "\n",
        "  def __ge__(self, other):\n",
        "    return (self.numerator * other.denominator / self.denominator * other.denominator) >= (other.numerator * self.denominator / self.denominator * other.denominator)\n",
        "\n",
        "  def __str__(self):\n",
        "    if self.denominator == 1:\n",
        "      return f'{self.numerator}'\n",
        "    else:\n",
        "      return f'{self.numerator}/{self.denominator}'\n",
        "\n",
        "  def __repr__(self):\n",
        "    return f'Fraction{self.numerator, self.denominator}'\n",
        "\n",
        "  def __float__(self):\n",
        "    return self.numerator/self.denominator\n",
        "\n",
        "  def reciprocal(self):\n",
        "    return Fraction(self.denominator, self.numerator)\n",
        "\n",
        "  def get_num(self):\n",
        "    return self.numerator\n",
        "\n",
        "  def get_denom(self):\n",
        "    return self.denominator\n",
        "\n",
        "  def from_float(other):\n",
        "    cnt = 0\n",
        "    while other % 1 != 0:\n",
        "      other *= 10\n",
        "      cnt += 1\n",
        "    return cut_to_lower_num(Fraction(int(other), 10**cnt))\n",
        "\n",
        "\n",
        "f1 = Fraction(3, 4)"
      ],
      "metadata": {
        "id": "hesm9IpRxl30"
      },
      "execution_count": null,
      "outputs": []
    },
    {
      "cell_type": "markdown",
      "source": [
        "**Тесты для класса `Fraction`:**\n"
      ],
      "metadata": {
        "id": "N5tZxFvIxdIy"
      }
    },
    {
      "cell_type": "code",
      "source": [
        "# Создание дробей\n",
        "f1 = Fraction(3, 4)\n",
        "f2 = Fraction(5, 6)\n",
        "\n",
        "# Сложение дробей\n",
        "f3 = f1 + f2\n",
        "print(f3)  # Ожидаемый вывод: 19/12\n",
        "\n",
        "# Вычитание дробей\n",
        "f4 = f1 - f2\n",
        "print(f4)  # Ожидаемый вывод: -1/12\n",
        "\n",
        "# Умножение дробей\n",
        "f5 = f1 * f2\n",
        "print(f5)  # Ожидаемый вывод: 5/8\n",
        "\n",
        "# Деление дробей\n",
        "f6 = f1 / f2\n",
        "print(f6)  # Ожидаемый вывод: 9/10\n",
        "\n",
        "# Проверка равенства\n",
        "print(f1 == Fraction(6, 8))   # Ожидаемый вывод: True\n",
        "\n",
        "# Сравнение дробей\n",
        "print(f1 > f2)    # Ожидаемый вывод: False\n",
        "print(f1 < f2)    # Ожидаемый вывод: True\n",
        "\n",
        "# Преобразование к float\n",
        "print(float(f1))  # Ожидаемый вывод: 0.75\n",
        "\n",
        "# Обратная дробь\n",
        "f7 = f1.reciprocal()\n",
        "print(f7)         # Ожидаемый вывод: 4/3\n",
        "\n",
        "# Создание дроби из float\n",
        "f8 = Fraction.from_float(0.75)\n",
        "print(f8)         # Ожидаемый вывод: 3/4\n",
        "\n",
        "# Проверка обработки исключений\n",
        "try:\n",
        "    f_invalid = Fraction(5, 0)\n",
        "except ValueError as e:\n",
        "    print(e)  # Ожидаемый вывод: Знаменатель не может быть нулем\n",
        "\n",
        "# Строковое и официальное представление\n",
        "print(str(f1))    # Ожидаемый вывод: 3/4\n",
        "print(repr(f1))   # Ожидаемый вывод: Fraction(3, 4)"
      ],
      "metadata": {
        "id": "U1UtgDM0xlqJ",
        "colab": {
          "base_uri": "https://localhost:8080/"
        },
        "outputId": "bfdceb37-134b-4284-a6b0-1df63dd40995"
      },
      "execution_count": null,
      "outputs": [
        {
          "output_type": "stream",
          "name": "stdout",
          "text": [
            "19/12\n",
            "-1/12\n",
            "5/8\n",
            "9/10\n",
            "True\n",
            "False\n",
            "True\n",
            "0.75\n",
            "4/3\n",
            "3/4\n",
            "Знаменатель не может быть равен нулю\n",
            "3/4\n",
            "Fraction(3, 4)\n"
          ]
        }
      ]
    }
  ]
}