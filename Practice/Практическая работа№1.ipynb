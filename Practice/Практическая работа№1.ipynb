{
  "nbformat": 4,
  "nbformat_minor": 0,
  "metadata": {
    "colab": {
      "provenance": [],
      "authorship_tag": "ABX9TyP9sOM70hOXTA9VdCWzFoMj",
      "include_colab_link": true
    },
    "kernelspec": {
      "name": "python3",
      "display_name": "Python 3"
    },
    "language_info": {
      "name": "python"
    }
  },
  "cells": [
    {
      "cell_type": "markdown",
      "metadata": {
        "id": "view-in-github",
        "colab_type": "text"
      },
      "source": [
        "<a href=\"https://colab.research.google.com/github/newts0fa/University/blob/main/Practice/%D0%9F%D1%80%D0%B0%D0%BA%D1%82%D0%B8%D1%87%D0%B5%D1%81%D0%BA%D0%B0%D1%8F%20%D1%80%D0%B0%D0%B1%D0%BE%D1%82%D0%B0%E2%84%961.ipynb\" target=\"_parent\"><img src=\"https://colab.research.google.com/assets/colab-badge.svg\" alt=\"Open In Colab\"/></a>"
      ]
    },
    {
      "cell_type": "code",
      "execution_count": 1,
      "metadata": {
        "colab": {
          "base_uri": "https://localhost:8080/"
        },
        "id": "NbTpCxdJLxe_",
        "outputId": "baca0de2-cdaf-44a7-8d32-0a848f890df9"
      },
      "outputs": [
        {
          "output_type": "stream",
          "name": "stdout",
          "text": [
            "Вероятность выигрыша при смене двери: 66.53%\n",
            "Вероятность выигрыша без смены двери: 33.47%\n"
          ]
        }
      ],
      "source": [
        "import random\n",
        "\n",
        "def monty_hall(iterations):\n",
        "    win_with_switch = 0  # Победы при смене выбора\n",
        "    win_without_switch = 0  # Победы без смены выбора\n",
        "\n",
        "    for _ in range(iterations):\n",
        "        # Шаг 1: Приз за одной из дверей\n",
        "        prize_door = random.randint(0, 2)\n",
        "\n",
        "        # Шаг 2: Участник выбирает дверь\n",
        "        player_choice = random.randint(0, 2)\n",
        "\n",
        "        remaining_doors = [0, 1, 2]\n",
        "        remaining_doors.remove(player_choice)\n",
        "        if prize_door in remaining_doors:\n",
        "            remaining_doors.remove(prize_door)\n",
        "        host_choice = remaining_doors[0]\n",
        "\n",
        "        # Шаг 4: Участник меняет свой выбор\n",
        "        # Новая дверь для игрока (это будет оставшаяся дверь)\n",
        "        new_player_choice = 3 - player_choice - host_choice\n",
        "\n",
        "        # Шаг 5: Проверка результатов\n",
        "        if player_choice == prize_door:\n",
        "            win_without_switch += 1\n",
        "        if new_player_choice == prize_door:\n",
        "            win_with_switch += 1\n",
        "\n",
        "    win_with_switch_probability = (win_with_switch / iterations) * 100\n",
        "    win_without_switch_probability = (win_without_switch / iterations) * 100\n",
        "\n",
        "    print(f\"Вероятность выигрыша при смене двери: {win_with_switch_probability:.2f}%\")\n",
        "    print(f\"Вероятность выигрыша без смены двери: {win_without_switch_probability:.2f}%\")\n",
        "\n",
        "# Пример использования\n",
        "iterations = 100000  # Количество итераций (игр)\n",
        "monty_hall(iterations)"
      ]
    }
  ]
}