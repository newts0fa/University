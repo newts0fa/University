{
  "nbformat": 4,
  "nbformat_minor": 0,
  "metadata": {
    "colab": {
      "provenance": [],
      "authorship_tag": "ABX9TyNh5Ac/j769r/bxVg3C4FCH",
      "include_colab_link": true
    },
    "kernelspec": {
      "name": "python3",
      "display_name": "Python 3"
    },
    "language_info": {
      "name": "python"
    }
  },
  "cells": [
    {
      "cell_type": "markdown",
      "metadata": {
        "id": "view-in-github",
        "colab_type": "text"
      },
      "source": [
        "<a href=\"https://colab.research.google.com/github/newts0fa/University/blob/main/Extra-Tasks/%D0%94%D0%BE%D0%BF%D0%BE%D0%BB%D0%BD%D0%B8%D1%82%D0%B5%D0%BB%D1%8C%D0%BD%D0%BE%D0%B5%20%D0%B7%D0%B0%D0%B4%D0%B0%D0%BD%D0%B8%D0%B5%20%E2%84%962.ipynb\" target=\"_parent\"><img src=\"https://colab.research.google.com/assets/colab-badge.svg\" alt=\"Open In Colab\"/></a>"
      ]
    },
    {
      "cell_type": "code",
      "execution_count": 1,
      "metadata": {
        "colab": {
          "base_uri": "https://localhost:8080/"
        },
        "id": "vWWxQZMCTbDD",
        "outputId": "a4cd2636-c47b-480b-fa14-6d0aaa32d745"
      },
      "outputs": [
        {
          "output_type": "stream",
          "name": "stdout",
          "text": [
            "от 1 до 99 или выход:\n",
            "5\n",
            "Ваше число больше.\n",
            "2\n",
            "Ваше число больше.\n",
            "1\n",
            "Вы победили за 3 попыток!\n"
          ]
        }
      ],
      "source": [
        "import random\n",
        "def chislo():\n",
        "    n = random.randrange(1, 100)\n",
        "    k = 0\n",
        "    print(\"от 1 до 99 или выход:\")\n",
        "\n",
        "    while True:\n",
        "        i = input()\n",
        "        k += 1\n",
        "        if i.lower() == \"выход\":\n",
        "            print(\"конец игры\")\n",
        "            break\n",
        "\n",
        "        if i.isdigit():\n",
        "            g = int(i)\n",
        "            if g > n:\n",
        "                print(\"Ваше число больше.\")\n",
        "            elif g < n:\n",
        "                print(\"Ваше число меньше.\")\n",
        "            else:\n",
        "                print(f'Вы победили за {k} попыток!')\n",
        "                break\n",
        "        else:\n",
        "            print(\"Вы ввели не число. Попробуйте снова.\")\n",
        "chislo()"
      ]
    }
  ]
}