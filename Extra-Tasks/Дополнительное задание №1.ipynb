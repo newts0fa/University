{
  "nbformat": 4,
  "nbformat_minor": 0,
  "metadata": {
    "colab": {
      "provenance": [],
      "authorship_tag": "ABX9TyPHf8F5J9RuCutIoeeXUSQr",
      "include_colab_link": true
    },
    "kernelspec": {
      "name": "python3",
      "display_name": "Python 3"
    },
    "language_info": {
      "name": "python"
    }
  },
  "cells": [
    {
      "cell_type": "markdown",
      "metadata": {
        "id": "view-in-github",
        "colab_type": "text"
      },
      "source": [
        "<a href=\"https://colab.research.google.com/github/newts0fa/University/blob/main/Extra-Tasks/%D0%94%D0%BE%D0%BF%D0%BE%D0%BB%D0%BD%D0%B8%D1%82%D0%B5%D0%BB%D1%8C%D0%BD%D0%BE%D0%B5%20%D0%B7%D0%B0%D0%B4%D0%B0%D0%BD%D0%B8%D0%B5%20%E2%84%961.ipynb\" target=\"_parent\"><img src=\"https://colab.research.google.com/assets/colab-badge.svg\" alt=\"Open In Colab\"/></a>"
      ]
    },
    {
      "cell_type": "code",
      "execution_count": 4,
      "metadata": {
        "colab": {
          "base_uri": "https://localhost:8080/",
          "height": 106
        },
        "id": "7QfzX5-zkZ7J",
        "outputId": "23961251-9226-4dd2-d64a-cc96a4239090"
      },
      "outputs": [
        {
          "output_type": "error",
          "ename": "IndentationError",
          "evalue": "expected an indented block after 'else' statement on line 31 (<ipython-input-4-e1372140cc38>, line 33)",
          "traceback": [
            "\u001b[0;36m  File \u001b[0;32m\"<ipython-input-4-e1372140cc38>\"\u001b[0;36m, line \u001b[0;32m33\u001b[0m\n\u001b[0;31m    def view_contact():\u001b[0m\n\u001b[0m                       ^\u001b[0m\n\u001b[0;31mIndentationError\u001b[0m\u001b[0;31m:\u001b[0m expected an indented block after 'else' statement on line 31\n"
          ]
        }
      ],
      "source": [
        "b = '+7(915)-060-20-05'\n",
        "a = ''.join(char for char in b if char.isdigit())\n",
        "\n",
        "def standartize_name():\n",
        "  return name.title()\n",
        "\n",
        "def standartize_phone():\n",
        "  phone_digits == ''.join(char for char in phone if char.isdigit())\n",
        "\n",
        "  if len(phone.digits) == 10:\n",
        "    return '+7' + phone_digits\n",
        "\n",
        "\n",
        "  elif len(phone_digits) == 11:\n",
        "    return '+7' + phone_digits[1:]\n",
        "\n",
        "  return phone_digits\n",
        "\n",
        "def add_contact():\n",
        "  pass\n",
        "\n",
        "def delete_contact():\n",
        "  name = int(\"Введите имя контакта\")\n",
        "  startazied_name = standartize_name(name)\n",
        "\n",
        "  if standartize_name in phone_book:\n",
        "    new_phone_book = phone_book.copy()\n",
        "    del new_phone_book[startazid_name]\n",
        "    print(\"Контакт успешно удалён!\")\n",
        "    return new_phone_book\n",
        "  else:\n",
        "    print(\"Контакт не найден!\")\n",
        "    return phone_book\n",
        "\n",
        "def view_contact():\n",
        "  if not phone_book:\n",
        "    print(\"Телефонная книга пустая\")\n",
        "  else:\n",
        "    for name.phone in phone_book.items():\n",
        "      print(f\"{name}:{phone}\")\n",
        "\n",
        "def edit_contact():\n",
        "  name = input(\"Введите имя контакта\")\n",
        "  standartized_name = standartized_name(name)\n",
        "\n",
        "  if standartized_name in phone_book:\n",
        "    new_phone = input(\"Введите номер телефона:\")\n",
        "    standartized_name = standartized_name(new_phone)\n",
        "    new_phone_book = phone_book.copy()\n",
        "    new_phone_book[standartized_name] = standartized_name\n",
        "\n",
        "def menu():\n",
        "  phone_book = {}\n",
        "  while True:\n",
        "    print(\"\\nВыберите функцию:\")\n",
        "    print(\"1. Добавить контакт\")\n",
        "    print(\"2. Удалить контакт\")\n",
        "    print(\"3. Показать список контактов\")\n",
        "    print(\"4. Изменить номер\")\n",
        "    print(\"5. Выход\")\n",
        "\n",
        "    choice = input(\"Введите номер функции:\")\n",
        "\n",
        "    if choice == '1':\n",
        "      phone_book = add_contact(phone_book)\n",
        "    elif choice == '2':\n",
        "      phone_book = delete_contact(phone_book)\n",
        "    elif choice == '3':\n",
        "      phone_book = view_contact(phone_book)\n",
        "    elif choice == '4':\n",
        "      phone_book = edit_contact(phone_book)\n",
        "    elif choice == '5':\n",
        "      print(\"Выход из программы\")\n",
        "      break\n",
        "    else:\n",
        "      print(\"Неверный выбор. Попробуйте снова!\")\n",
        "menu()"
      ]
    },
    {
      "cell_type": "code",
      "source": [],
      "metadata": {
        "id": "CVp4cTR5k5N2"
      },
      "execution_count": 3,
      "outputs": []
    }
  ]
}