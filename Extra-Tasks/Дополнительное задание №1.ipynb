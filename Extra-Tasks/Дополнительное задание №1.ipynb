{
  "nbformat": 4,
  "nbformat_minor": 0,
  "metadata": {
    "colab": {
      "provenance": [],
      "authorship_tag": "ABX9TyOTdBDgRjjTGcGqlgPdkjfT",
      "include_colab_link": true
    },
    "kernelspec": {
      "name": "python3",
      "display_name": "Python 3"
    },
    "language_info": {
      "name": "python"
    }
  },
  "cells": [
    {
      "cell_type": "markdown",
      "metadata": {
        "id": "view-in-github",
        "colab_type": "text"
      },
      "source": [
        "<a href=\"https://colab.research.google.com/github/newts0fa/University/blob/main/Extra-Tasks/%D0%94%D0%BE%D0%BF%D0%BE%D0%BB%D0%BD%D0%B8%D1%82%D0%B5%D0%BB%D1%8C%D0%BD%D0%BE%D0%B5%20%D0%B7%D0%B0%D0%B4%D0%B0%D0%BD%D0%B8%D0%B5%20%E2%84%961.ipynb\" target=\"_parent\"><img src=\"https://colab.research.google.com/assets/colab-badge.svg\" alt=\"Open In Colab\"/></a>"
      ]
    },
    {
      "cell_type": "code",
      "execution_count": null,
      "metadata": {
        "colab": {
          "base_uri": "https://localhost:8080/"
        },
        "id": "7QfzX5-zkZ7J",
        "outputId": "ca20c1b1-da15-48ed-9bab-018adedc8ff5"
      },
      "outputs": [
        {
          "output_type": "stream",
          "name": "stdout",
          "text": [
            "\n",
            "Выберите функцию:\n",
            "1. Добавить контакт\n",
            "2. Удалить контакт\n",
            "3. Показать список контактов\n",
            "4. Изменить номер\n",
            "5. Выход\n",
            "Введите номер функции:1\n",
            "Введите имя контактаИлья\n",
            "Введите номер телефона:+79150602005\n",
            "Контакт Илья успешно добавлен!\n",
            "\n",
            "Выберите функцию:\n",
            "1. Добавить контакт\n",
            "2. Удалить контакт\n",
            "3. Показать список контактов\n",
            "4. Изменить номер\n",
            "5. Выход\n",
            "Введите номер функции:3\n",
            "Список контактов:\n",
            "Илья: +79150602005\n",
            "\n",
            "Выберите функцию:\n",
            "1. Добавить контакт\n",
            "2. Удалить контакт\n",
            "3. Показать список контактов\n",
            "4. Изменить номер\n",
            "5. Выход\n",
            "Введите номер функции:4\n",
            "Введите имя контактаИлья\n",
            "Введите новый номер телефона: +79150602004\n",
            "Номер для Илья успешно изменён!\n",
            "\n",
            "Выберите функцию:\n",
            "1. Добавить контакт\n",
            "2. Удалить контакт\n",
            "3. Показать список контактов\n",
            "4. Изменить номер\n",
            "5. Выход\n",
            "Введите номер функции:3\n",
            "Список контактов:\n",
            "Илья: +79150602004\n",
            "\n",
            "Выберите функцию:\n",
            "1. Добавить контакт\n",
            "2. Удалить контакт\n",
            "3. Показать список контактов\n",
            "4. Изменить номер\n",
            "5. Выход\n"
          ]
        }
      ],
      "source": [
        "phone_book = {}\n",
        "def standartize_name(name):\n",
        "  return \" \".join(слово.capitalize() for слово in name.split())\n",
        "def standartize_phone(phone):\n",
        "  phone=phone.replace(\" \",\"\").replace(\"-\",\"\")\n",
        "  if phone.startswith('8'):\n",
        "      phone=\"+7\"+phone[1:]\n",
        "  elif not phone.startswith('+'):\n",
        "      phone=\"+7\"+phone\n",
        "  return phone\n",
        "\n",
        "  if len(phone.digits) == 10:\n",
        "    return '+7' + phone_digits\n",
        "\n",
        "\n",
        "  elif len(phone_digits) == 11:\n",
        "    return '+7' + phone_digits[1:]\n",
        "\n",
        "  return phone_digits\n",
        "\n",
        "def add_contact():\n",
        "  name = standartize_name(input(\"Введите имя контакта\"))\n",
        "  phone_digits = standartize_phone(input(\"Введите номер телефона:\"))\n",
        "  phone_book[name] = phone_digits\n",
        "  print(\"Контакт\",name,\"успешно добавлен!\")\n",
        "\n",
        "\n",
        "def delete_contact():\n",
        "  name = standartize_name(input(\"Введите имя контакта\"))\n",
        "  if name in phone_book:\n",
        "    del phone_book[name]\n",
        "    print(\"Контакт\",name,\"успешно удалён\")\n",
        "  else:\n",
        "    print(\"Контакт не найден!\")\n",
        "\n",
        "def view_contact():\n",
        "  if phone_book:\n",
        "    print(\"Список контактов:\")\n",
        "    for name,phone in phone_book.items():\n",
        "      print(name + ':',phone)\n",
        "  else:\n",
        "    print(\"Телефонная книга пуста\")\n",
        "\n",
        "\n",
        "def edit_contact():\n",
        "  name = standartize_name(input(\"Введите имя контакта\"))\n",
        "  if name in phone_book:\n",
        "    new_phone = standartize_phone(input(\"Введите новый номер телефона: \"))\n",
        "    phone_book[name]=new_phone\n",
        "    print(\"Номер для\",name,\"успешно изменён!\")\n",
        "  else:\n",
        "    print(\"Контакт не найден!\")\n",
        "\n",
        "def menu():\n",
        "  phone_book = {}\n",
        "  while True:\n",
        "    print(\"\\nВыберите функцию:\")\n",
        "    print(\"1. Добавить контакт\")\n",
        "    print(\"2. Удалить контакт\")\n",
        "    print(\"3. Показать список контактов\")\n",
        "    print(\"4. Изменить номер\")\n",
        "    print(\"5. Выход\")\n",
        "\n",
        "    choice = input(\"Введите номер функции:\")\n",
        "\n",
        "    if choice == '1':\n",
        "      add_contact()\n",
        "    elif choice == '2':\n",
        "      delete_contact()\n",
        "    elif choice == '3':\n",
        "      view_contact()\n",
        "    elif choice == '4':\n",
        "      edit_contact()\n",
        "    elif choice == '5':\n",
        "      print(\"Выход из программы\")\n",
        "      break\n",
        "    else:\n",
        "      print(\"Неверный выбор. Попробуйте снова!\")\n",
        "menu()"
      ]
    },
    {
      "cell_type": "code",
      "source": [],
      "metadata": {
        "id": "bmJKeobFt1UE"
      },
      "execution_count": null,
      "outputs": []
    },
    {
      "cell_type": "code",
      "source": [],
      "metadata": {
        "id": "CVp4cTR5k5N2"
      },
      "execution_count": null,
      "outputs": []
    }
  ]
}